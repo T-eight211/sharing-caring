{
 "cells": [
  {
   "cell_type": "markdown",
   "metadata": {},
   "source": [
    "# ECS529U Algorithms and Data Structures\n",
    "# Lab sheet 3\n",
    "\n",
    "This third lab gets you to work with big-Θ classes and practically check the efficiency of\n",
    "sorting algorithms by testing them on randomly generated arrays.\n",
    "\n",
    "**Marks (max 5):** Question 1: 1.5 | Question 2: 1 | Questions 3-7: 0.5 each"
   ]
  },
  {
   "cell_type": "markdown",
   "metadata": {},
   "source": [
    "## Question 1 (does not require coding)\n",
    "\n",
    "For each of the following expressions, find if they are Θ(1), Θ(logn), Θ(n), Θ(nlogn), Θ(<sup>2</sup>), Θ(n<sup>2022</sup>) or Θ(2<sup>n</sup>):\n",
    "1. 500 + 0.5n + 45logn\n",
    "2. 5000\n",
    "3. 42 + nlogn + 5logn + 50n\n",
    "4. 5nlogn + 2<sup>n</sup> + 300n<sup>2020</sup>n<sup>2</sup>\n",
    "\n",
    "Find the complexity, in terms of a simple big-Θ class, of the following expression:\n",
    "\n",
    "&nbsp;&nbsp;&nbsp;&nbsp;&nbsp;&nbsp;5(logn)<sup>13</sup> + 300n<sup>3</sup> + 30nlogn + 100\n",
    "\n",
    "Finally, consider the following function that counts the duplicate elements inside an array.\n",
    "\n",
    "    def countDups(A):\n",
    "        B = A[:]\n",
    "        selectionSort(B)\n",
    "        dups = 0\n",
    "        for i in range (1,len(B)):\n",
    "            if B[i] == B[i-1]: dups += 1\n",
    "        return dups\n",
    "        \n",
    "Explain, in terms of big-Θ, what is the worst-case time complexity of `countDups` as a function of the size of the array `A`. Note here that the line `B=A[:]` is the same `B=A[0:len(A)]`, that is, it creates a copy of `A` and stores it in `B`."
   ]
  },
  {
   "cell_type": "markdown",
   "metadata": {},
   "source": [
    "1. As n increases, 0.5n increases the fastest and is a linear term. This means Θ(n) is the complexity.\n",
    "\n",
    "2. 5000 is a constant. This means Θ(1) is the complexity.\n",
    "\n",
    "3. As n increases, nlog(n) increases the fastest and is a logarithmic term. This means Θ(nlogn) is the complexity.\n",
    "\n",
    "4. The 300n<sup>2020</sup> term grows the fastest so the complexity is Θ(n<sup>2022</sup>\n",
    "\n",
    "The complexity is Θ(n<sup>3</sup>) as the 300n<sup>3</sup> term grows the fastest.\n",
    "\n",
    "The worst-case time complexity of countDups is Θ(n<sup>2</sup>) due to the selection sort step"
   ]
  },
  {
   "cell_type": "markdown",
   "metadata": {},
   "source": [
    "## Question 2\n",
    "\n",
    "Write a version of insertion sort that works constructively, i.e. returns a new sorted array and leaves the original array unchanged.\n",
    "\n",
    "For example, if we call this version `insertionSortC`, and run the following code\n",
    "\n",
    "    A = [30, 25, 67, 99, 8, 16, 28, 63, 12, 20]\n",
    "    B = insertionSortC(A1)\n",
    "    print(\"Original array is: \",A)\n",
    "    print(\"Sorted is: \",B)\n",
    "we get this printout:\n",
    "\n",
    "    Original array is:  [30, 25, 67, 99, 8, 16, 28, 63, 12, 20]\n",
    "    Sorted is:  [8, 12, 16, 20, 25, 28, 30, 63, 67, 99]\n",
    "    \n",
    "Test your code in at least 5 arrays of your choosing, including the empty array."
   ]
  },
  {
   "cell_type": "code",
   "execution_count": 1,
   "metadata": {},
   "outputs": [
    {
     "name": "stdout",
     "output_type": "stream",
     "text": [
      "Test 1 - Original: [], Sorted: []\n",
      "Test 2 - Original: [5], Sorted: [5]\n",
      "Test 3 - Original: [9, 7, 5, 3, 1], Sorted: [1, 3, 5, 7, 9]\n",
      "Test 4 - Original: [1, 2, 3, 4, 5], Sorted: [1, 2, 3, 4, 5]\n",
      "Test 5 - Original: [5, 2, 9, 1, 5, 6], Sorted: [1, 2, 5, 5, 6, 9]\n"
     ]
    }
   ],
   "source": [
    "def insertionSortC(A):\n",
    "    B = A[:]\n",
    "    \n",
    "    for i in range(1, len(B)):\n",
    "        key = B[i]\n",
    "        j = i - 1\n",
    "        \n",
    "        while j >= 0 and B[j] > key:\n",
    "            B[j + 1] = B[j]\n",
    "            j -= 1\n",
    "        B[j + 1] = key\n",
    "    \n",
    "    return B\n",
    "\n",
    "test_arrays = (([]),\n",
    "               ([5]),\n",
    "               ([9, 7, 5, 3, 1]),\n",
    "               ([1, 2, 3, 4, 5]),\n",
    "               ([5, 2, 9, 1, 5, 6]))\n",
    "\n",
    "for i in range(len(test_arrays)):\n",
    "    original = test_arrays[i]\n",
    "    sorted_array = insertionSortC(original)\n",
    "    print(f\"Test {i+1} - Original: {original}, Sorted: {sorted_array}\")"
   ]
  },
  {
   "cell_type": "markdown",
   "metadata": {},
   "source": [
    "## Question 3\n",
    "\n",
    "For this question you may use Python's built-in function for producing random numbers. If you import Python's built-in module `random` by calling:\n",
    "\n",
    "    import random\n",
    "\n",
    "then `random.randint(low,high)` will return a random integer in the range `low` to `high` inclusive (i.e. an integer with an equal chance of it being any of the numbers in that range). Use this to write a Python function:\n",
    "\n",
    "    def randomIntArray(s,n)\n",
    "\n",
    "which returns an array of length `s` that in each position has a random integer in the range `0` to `n`.\n",
    "\n",
    "For example, running `randomIntArray(5,10)` we may get back the array `[6, 2, 3, 9, 1]`, or `[6, 10, 6, 1, 1]`, etc."
   ]
  },
  {
   "cell_type": "code",
   "execution_count": 2,
   "metadata": {},
   "outputs": [
    {
     "name": "stdout",
     "output_type": "stream",
     "text": [
      "[9, 1, 9, 8, 8]\n"
     ]
    }
   ],
   "source": [
    "import random\n",
    "\n",
    "def randomIntArray(s,n):\n",
    "    result = []\n",
    "    for i in range(s):\n",
    "        random_number = random.randint(0, n)\n",
    "        result.append(random_number)\n",
    "    return result\n",
    "\n",
    "print(randomIntArray(5, 10))\n",
    "    "
   ]
  },
  {
   "cell_type": "markdown",
   "metadata": {},
   "source": [
    "## Question 4\n",
    "\n",
    "Python's built-in function `time()` in the module `time` returns the current time in the form of the number of seconds since 0.00am on 1st January 1970. So, code of the form:\n",
    "\n",
    "    t = time.time()\n",
    "    <operation>\n",
    "    t = time.time()-t\n",
    "    \n",
    "will set `t` to the time it takes to perform `<operation>`. As `time.time()` returns a floating point number rather than an integer, this could be a fraction of a second.\n",
    "\n",
    "Use this to write a Python function:\n",
    "\n",
    "    def appendTime(A,v)\n",
    "which takes an array `A` a value `v` as input and creates a new array with the same elements as `A` but with `v` appended at its end (for example, you can use the code of the function `append` that we saw in Lecture 1). The function then returns the new array and the time it took to create it. For example:\n",
    "\n",
    "    A = [30, 25, 67, 99, 8, 16, 28, 63, 12, 20]\n",
    "    (B,t) = appendTime(A,42)\n",
    "    print(\"Time taken to append is: \",t)\n",
    "    print(\"The new array is: \",B)\n",
    "\n",
    "we can get the printout:\n",
    "\n",
    "    Time taken to append is:  8.58306884765625e-06\n",
    "    The new array is:  [30, 25, 67, 99, 8, 16, 28, 63, 12, 20, 42]\n",
    "Test your code in at least 5 arrays, with lengths 0, 10, 100, 1000 and 10000 respectively."
   ]
  },
  {
   "cell_type": "code",
   "execution_count": 3,
   "metadata": {},
   "outputs": [
    {
     "name": "stdout",
     "output_type": "stream",
     "text": [
      "Time taken to append is:  3.5762786865234375e-06\n",
      "Time taken to append is:  2.86102294921875e-06\n",
      "Time taken to append is:  3.337860107421875e-06\n",
      "Time taken to append is:  7.62939453125e-06\n",
      "Time taken to append is:  8.20159912109375e-05\n"
     ]
    }
   ],
   "source": [
    "import time\n",
    "import random\n",
    "\n",
    "def appendTime(A, v):\n",
    "    t = time.time()\n",
    "    B = A[:]\n",
    "    B.append(v)\n",
    "    t = time.time() - t\n",
    "    return B, t\n",
    "\n",
    "tests = (randomIntArray(i,100) for i in [0,10,100,1000,10000])\n",
    "for A in tests:\n",
    "    (B,t) = appendTime(A,42)\n",
    "    print(\"Time taken to append is: \",t)"
   ]
  },
  {
   "cell_type": "markdown",
   "metadata": {},
   "source": [
    "## Question 5\n",
    "\n",
    "Write a Python method:\n",
    "\n",
    "    def sortTimeUsing(sortf,A)\n",
    "    \n",
    "which returns the time taken to sort the array `A`, but does the sorting using the sorting function\n",
    "passed as argument `sortf`. This uses the concept of passing a function as an\n",
    "argument that was introduced in Question 6 of Lab 1.\n",
    "\n",
    "Use this to compare the time taken to sort using selection sort\n",
    "with the time taken to sort using insertion sort, the code of which you can find on the\n",
    "lecture slides, on some example arrays."
   ]
  },
  {
   "cell_type": "code",
   "execution_count": 4,
   "metadata": {},
   "outputs": [],
   "source": [
    "def selectionSort(A):\n",
    "    for i in range(len(A)):\n",
    "        imin = findMin(i,A)\n",
    "        swap(i,imin,A)\n",
    "\n",
    "def findMin(i, A):\n",
    "    imin = i\n",
    "    for j in range(i+1,len(A)):\n",
    "        if A[j] < A[imin]: \n",
    "            imin = j\n",
    "    return imin\n",
    "\n",
    "def swap(i, j, A):\n",
    "    tmp = A[i]\n",
    "    A[i] = A[j]\n",
    "    A[j] = tmp\n",
    "\n",
    "def insertionSort(A):\n",
    "    for i in range(1,len(A)):\n",
    "        insert(A[i],A,i)\n",
    "\n",
    "def insert(v, A, hi):\n",
    "    for i in range (hi-1,-1,-1):\n",
    "        if v >= A[i]:\n",
    "            A[i+1] = v\n",
    "            return\n",
    "        A[i+1] = A[i]\n",
    "    A[0] = v"
   ]
  },
  {
   "cell_type": "code",
   "execution_count": 5,
   "metadata": {},
   "outputs": [],
   "source": [
    "import time\n",
    "\n",
    "def sortTimeUsing(sortf, A):\n",
    "    start_time = time.time()\n",
    "    sortf(A)\n",
    "    end_time = time.time()\n",
    "    return end_time - start_time"
   ]
  },
  {
   "cell_type": "code",
   "execution_count": 6,
   "metadata": {},
   "outputs": [
    {
     "name": "stdout",
     "output_type": "stream",
     "text": [
      "Array: [5, 2, 9, 1, 5, 6]\n",
      "Time taken for selection sort: 0.000013 seconds\n",
      "Time taken for insertion sort: 0.000008 seconds\n",
      "Array: [3, 0, 2, 5, -1, 4, 1]\n",
      "Time taken for selection sort: 0.000009 seconds\n",
      "Time taken for insertion sort: 0.000006 seconds\n",
      "Array: [10, 7, 8, 9, 1, 5]\n",
      "Time taken for selection sort: 0.000005 seconds\n",
      "Time taken for insertion sort: 0.000004 seconds\n",
      "Array: [1, 2, 3, 4, 5, 6]\n",
      "Time taken for selection sort: 0.000004 seconds\n",
      "Time taken for insertion sort: 0.000003 seconds\n",
      "Array: [3, 3, 3, 3, 3, 3]\n",
      "Time taken for selection sort: 0.000004 seconds\n",
      "Time taken for insertion sort: 0.000002 seconds\n"
     ]
    }
   ],
   "source": [
    "example_arrays = (([5, 2, 9, 1, 5, 6]),\n",
    "                 ([3, 0, 2, 5, -1, 4, 1]),\n",
    "                 ([10, 7, 8, 9, 1, 5]),\n",
    "                 ([1, 2, 3, 4, 5, 6]),\n",
    "                 ([3, 3, 3, 3, 3, 3]))\n",
    "\n",
    "for array in example_arrays:\n",
    "    \n",
    "    array_for_selection = array[:]\n",
    "    array_for_insertion = array[:]\n",
    "    \n",
    "    time_selection = sortTimeUsing(selectionSort, array_for_selection)\n",
    "    time_insertion = sortTimeUsing(insertionSort, array_for_insertion)\n",
    "    \n",
    "    print(f\"Array: {array}\")\n",
    "    print(f\"Time taken for selection sort: {time_selection:.6f} seconds\")\n",
    "    print(f\"Time taken for insertion sort: {time_insertion:.6f} seconds\")"
   ]
  },
  {
   "cell_type": "markdown",
   "metadata": {},
   "source": [
    "## Question 6\n",
    "\n",
    "Use the method `randomIntArray` from Question 3 to provide arrays to be sorted by\n",
    "`sortTimeUsing`. This will enable you to test how long it takes to sort an array much longer than\n",
    "one you could type in yourself. Then, fill in the following table (but see Note).\n",
    "\n",
    "| array length |  10  | 100 | 1000 | 10<sup>4</sup> | 10<sup>5</sup> | 10<sup>6</sup> |\n",
    "|:------------|------|-----|------|-------|--------|----------------|\n",
    "| selection sort time (sec)|0.000016 |   0.000282  |   0.032572   |    2.150245   |    246.288688    |                |\n",
    "| insertion sort time (sec)| 0.000009|   0.000229  |   0.023790   |    1.825632   |    212.260304    |                |\n",
    "\n",
    "For each array length, produce a random array of that length, sort it via `sortTimeUsing` using selection sort and insertion sort (make sure you sort the same array twice!), and fill in the table the corresponding times.\n",
    "\n",
    "Note: sorting arrays of length greater than 10<sup>5</sup> may make your computer run out of\n",
    "memory and hang. For that reason, you can skip filling in the last column in the table. If you do want to fill it in, make sure you save everything before and be ready to hard-restart your computer!\n",
    "\n",
    "It would also make sense to stop a test if it runs over a few minutes and fill in “timeout” in\n",
    "the respective column."
   ]
  },
  {
   "cell_type": "code",
   "execution_count": 8,
   "metadata": {},
   "outputs": [
    {
     "name": "stdout",
     "output_type": "stream",
     "text": [
      "Sorting array of length: 10\n",
      "Selection sort time: 0.000016 seconds\n",
      "Insertion sort time: 0.000009 seconds\n",
      "\n",
      "Sorting array of length: 100\n",
      "Selection sort time: 0.000282 seconds\n",
      "Insertion sort time: 0.000229 seconds\n",
      "\n",
      "Sorting array of length: 1000\n",
      "Selection sort time: 0.032572 seconds\n",
      "Insertion sort time: 0.023790 seconds\n",
      "\n",
      "Sorting array of length: 10000\n",
      "Selection sort time: 2.150245 seconds\n",
      "Insertion sort time: 1.825632 seconds\n",
      "\n",
      "Sorting array of length: 100000\n",
      "Selection sort time: 246.288688 seconds\n",
      "Insertion sort time: 212.260304 seconds\n",
      "\n",
      "Sorting array of length: 1000000\n"
     ]
    },
    {
     "ename": "KeyboardInterrupt",
     "evalue": "",
     "output_type": "error",
     "traceback": [
      "\u001b[0;31m---------------------------------------------------------------------------\u001b[0m",
      "\u001b[0;31mKeyboardInterrupt\u001b[0m                         Traceback (most recent call last)",
      "Cell \u001b[0;32mIn[8], line 13\u001b[0m\n\u001b[1;32m     11\u001b[0m \u001b[38;5;66;03m# Sort using selection sort\u001b[39;00m\n\u001b[1;32m     12\u001b[0m array_for_selection \u001b[38;5;241m=\u001b[39m random_array[:]  \u001b[38;5;66;03m# Make a copy of the random array\u001b[39;00m\n\u001b[0;32m---> 13\u001b[0m selection_time \u001b[38;5;241m=\u001b[39m \u001b[43msortTimeUsing\u001b[49m\u001b[43m(\u001b[49m\u001b[43mselectionSort\u001b[49m\u001b[43m,\u001b[49m\u001b[43m \u001b[49m\u001b[43marray_for_selection\u001b[49m\u001b[43m)\u001b[49m  \u001b[38;5;66;03m# Measure selection sort time\u001b[39;00m\n\u001b[1;32m     14\u001b[0m \u001b[38;5;28mprint\u001b[39m(\u001b[38;5;124mf\u001b[39m\u001b[38;5;124m\"\u001b[39m\u001b[38;5;124mSelection sort time: \u001b[39m\u001b[38;5;132;01m{\u001b[39;00mselection_time\u001b[38;5;132;01m:\u001b[39;00m\u001b[38;5;124m.6f\u001b[39m\u001b[38;5;132;01m}\u001b[39;00m\u001b[38;5;124m seconds\u001b[39m\u001b[38;5;124m\"\u001b[39m)  \u001b[38;5;66;03m# Print selection sort time\u001b[39;00m\n\u001b[1;32m     16\u001b[0m \u001b[38;5;66;03m# Sort using insertion sort\u001b[39;00m\n",
      "Cell \u001b[0;32mIn[5], line 5\u001b[0m, in \u001b[0;36msortTimeUsing\u001b[0;34m(sortf, A)\u001b[0m\n\u001b[1;32m      3\u001b[0m \u001b[38;5;28;01mdef\u001b[39;00m \u001b[38;5;21msortTimeUsing\u001b[39m(sortf, A):\n\u001b[1;32m      4\u001b[0m     start_time \u001b[38;5;241m=\u001b[39m time\u001b[38;5;241m.\u001b[39mtime()\n\u001b[0;32m----> 5\u001b[0m     \u001b[43msortf\u001b[49m\u001b[43m(\u001b[49m\u001b[43mA\u001b[49m\u001b[43m)\u001b[49m\n\u001b[1;32m      6\u001b[0m     end_time \u001b[38;5;241m=\u001b[39m time\u001b[38;5;241m.\u001b[39mtime()\n\u001b[1;32m      7\u001b[0m     \u001b[38;5;28;01mreturn\u001b[39;00m end_time \u001b[38;5;241m-\u001b[39m start_time\n",
      "Cell \u001b[0;32mIn[4], line 3\u001b[0m, in \u001b[0;36mselectionSort\u001b[0;34m(A)\u001b[0m\n\u001b[1;32m      1\u001b[0m \u001b[38;5;28;01mdef\u001b[39;00m \u001b[38;5;21mselectionSort\u001b[39m(A):\n\u001b[1;32m      2\u001b[0m     \u001b[38;5;28;01mfor\u001b[39;00m i \u001b[38;5;129;01min\u001b[39;00m \u001b[38;5;28mrange\u001b[39m(\u001b[38;5;28mlen\u001b[39m(A)):\n\u001b[0;32m----> 3\u001b[0m         imin \u001b[38;5;241m=\u001b[39m \u001b[43mfindMin\u001b[49m\u001b[43m(\u001b[49m\u001b[43mi\u001b[49m\u001b[43m,\u001b[49m\u001b[43mA\u001b[49m\u001b[43m)\u001b[49m\n\u001b[1;32m      4\u001b[0m         swap(i,imin,A)\n",
      "Cell \u001b[0;32mIn[4]\u001b[0m, in \u001b[0;36mfindMin\u001b[0;34m(i, A)\u001b[0m\n\u001b[1;32m      0\u001b[0m <Error retrieving source code with stack_data see ipython/ipython#13598>\n",
      "\u001b[0;31mKeyboardInterrupt\u001b[0m: "
     ]
    }
   ],
   "source": [
    "array_lengths = [10, 100, 1000, 10**4, 10**5, 10**6]\n",
    "\n",
    "for length in array_lengths:\n",
    "    print(f\"Sorting array of length: {length}\")\n",
    "\n",
    "    random_array = randomIntArray(length, 10000)\n",
    "\n",
    "    array_for_selection = random_array[:]\n",
    "    selection_time = sortTimeUsing(selectionSort, array_for_selection)\n",
    "    print(f\"Selection sort time: {selection_time:.6f} seconds\")\n",
    "\n",
    "    array_for_insertion = random_array[:]\n",
    "    insertion_time = sortTimeUsing(insertionSort, array_for_insertion)\n",
    "    print(f\"Insertion sort time: {insertion_time:.6f} seconds\\n\")"
   ]
  },
  {
   "cell_type": "markdown",
   "metadata": {},
   "source": [
    "## Question 7\n",
    "\n",
    "Write a version of insertion sort where the `insert` function uses binary search. More precisely, to insert a value `v` in an array `A` where the part `A[:i]` is sorted, the `insert` function will:\n",
    "- use binary search to find the position in `A[:i+1]` where `v` needs to be inserted\n",
    "- move elements from that position one place to the right and insert `v`\n",
    "\n",
    "What is the complexity of this version of insertion sort: O(n<sup>2</sup>) or O(nlogn)?"
   ]
  },
  {
   "cell_type": "code",
   "execution_count": 11,
   "metadata": {},
   "outputs": [
    {
     "name": "stdout",
     "output_type": "stream",
     "text": [
      "Testing Insertion Sort with Binary Search\n",
      "Original array: [42, 72, 38, 77, 23, 4, 31, 52, 15, 84]\n",
      "Sorted array: [4, 15, 23, 31, 38, 42, 52, 72, 77, 84]\n"
     ]
    }
   ],
   "source": [
    "def binarySearch(A, v, high_index):\n",
    "    low = 0\n",
    "    high = high_index\n",
    "    while low <= high:\n",
    "        mid = (low + high) // 2\n",
    "        if A[mid] < v:\n",
    "            low = mid + 1\n",
    "        else:\n",
    "            high = mid - 1\n",
    "    return low\n",
    "\n",
    "def insert(v, A, hi):\n",
    "    index = binarySearch(A, v, hi - 1)\n",
    "    A[index + 1:hi + 1] = A[index:hi]\n",
    "    A[index] = v\n",
    "\n",
    "def insertionSortWithBinarySearch(array):\n",
    "    for i in range(1, len(array)):\n",
    "        insert(array[i], array, i)\n",
    "\n",
    "def testInsertionSortWithBinarySearch():\n",
    "    print(\"Testing Insertion Sort with Binary Search\")\n",
    "\n",
    "    array_length = 10\n",
    "    random_array = randomIntArray(array_length, 100)\n",
    "    print(\"Original array:\", random_array)\n",
    "\n",
    "    insertionSortWithBinarySearch(random_array)\n",
    "    print(\"Sorted array:\", random_array)\n",
    "\n",
    "if __name__ == \"__main__\":\n",
    "    testInsertionSortWithBinarySearch()"
   ]
  },
  {
   "cell_type": "code",
   "execution_count": null,
   "metadata": {},
   "outputs": [],
   "source": []
  }
 ],
 "metadata": {
  "kernelspec": {
   "display_name": "Python 3 (ipykernel)",
   "language": "python",
   "name": "python3"
  },
  "language_info": {
   "codemirror_mode": {
    "name": "ipython",
    "version": 3
   },
   "file_extension": ".py",
   "mimetype": "text/x-python",
   "name": "python",
   "nbconvert_exporter": "python",
   "pygments_lexer": "ipython3",
   "version": "3.11.9"
  }
 },
 "nbformat": 4,
 "nbformat_minor": 4
}
