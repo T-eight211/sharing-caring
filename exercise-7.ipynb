{
 "cells": [
  {
   "attachments": {},
   "cell_type": "markdown",
   "metadata": {
    "tags": []
   },
   "source": [
    "## Short Assessed Exercise\n",
    "## Level 7\n",
    "## Taher Ahmed\n",
    "## 230288917\n",
    "## 30/12/23\n",
    "## 1"
   ]
  },
  {
   "attachments": {},
   "cell_type": "markdown",
   "metadata": {},
   "source": [
    "## Summary of the Question \n",
    "The task, at hand is to develop a program that can handle election results for a two candidate election. The program should be able to create two candidate records each containing their name, party affiliation and the number of votes they received. Additionally there should be a field that indicates whether or not a candidate has won (which is set to false by default).\n",
    "\n",
    "To accomplish this we need to implement a method that creates these candidate records by accepting their information as arguments and returning a record. Afterward the program needs to determine the winner by comparing the vote count of each candidate. In case of a tie it should display a message about needing an election without declaring a winner. If the vote count is negative the program should prompt for a vote count until it receives one.\n",
    "\n",
    "Finally when all calculations are complete the program will print out all details about the winner, including their majority (which represents the difference in votes, between both candidates). In case there is no winner it will print out a message indicating that another election is necessary."
   ]
  },
  {
   "attachments": {},
   "cell_type": "markdown",
   "metadata": {},
   "source": [
    "## Justification that the program passes this level\n",
    "This is based on tick boxes at start of the question description for this exercise.\n",
    "- I can EXPLAIN HOW MY PROGRAM WORKS\n",
    "- I wrote this program myself\n",
    "❑ Create user-defined types using records as classes with no methods.\n",
    "❑ Include a method to create such a record\n",
    "❑ Check and print information stored in records\n",
    "❑ Has at least one method that take argument(s) and returns a result\n",
    "❑ If given invalid data, it repeatedly asks for a new value using a while loop.\n",
    "❑ Good indentation, comments and variable/method naming.\n",
    "❑ All variables have minimal scope and final variables used for literal constants\n",
    "\n"
   ]
  },
  {
   "attachments": {},
   "cell_type": "markdown",
   "metadata": {},
   "source": [
    "## The literate program development\n"
   ]
  },
  {
   "attachments": {},
   "cell_type": "markdown",
   "metadata": {},
   "source": [
    "## Method name\n",
    "create_candidate_record\n",
    "## What it does\n",
    "It creates a record to store the candidate's information.\n",
    "## Implementation (how it works)\n",
    "It creates a class called \"Candidate\" which stores the attributes. A method is created when the values entered is passed as arguments and is stored in an object (record) of Candidate class. It then returns the record with the value stored inside. Creates an object of the Candidate class."
   ]
  },
  {
   "cell_type": "code",
   "execution_count": null,
   "metadata": {},
   "outputs": [],
   "source": [
    "class Candidate{// class with no method but only defining the attributes\n",
    "  String name;\n",
    "  String party;\n",
    "  int votes;\n",
    "  boolean won;\n",
    "}\n",
    "public Candidate create_candidate_record(String name, String party, int votes){\n",
    "  Candidate candidate = new Candidate(); // creates an object using the \"Candidate\" class.\n",
    "  candidate.name = name;\n",
    "  candidate.party = party;\n",
    "  candidate.votes = votes;\n",
    "  candidate.won = false; // Won is set to false by default.\n",
    "  return candidate;\n",
    "}"
   ]
  },
  {
   "cell_type": "markdown",
   "metadata": {},
   "source": [
    "#### Testing"
   ]
  },
  {
   "cell_type": "code",
   "execution_count": null,
   "metadata": {},
   "outputs": [],
   "source": [
    "Scanner input = new Scanner(System.in);\n",
    "String name1 = input.nextLine();\n",
    "String party1 = input.nextLine();\n",
    "String votes1 = input.nextLine();\n",
    "int votes1int = Integer.parseInt(votes1); // votes1 is converted into integer\n",
    "Candidate candidate1 = create_candidate_record (name1, party1, votes1int);\n",
    "System.out.println (candidate1.name);"
   ]
  },
  {
   "attachments": {},
   "cell_type": "markdown",
   "metadata": {},
   "source": [
    "## Method name\n",
    "get_string_input\n",
    "## What it does\n",
    "It outputs a message and takes an input which only contains alphabetic characters.\n",
    "## Implementation (how it works)\n",
    "Takes message as the argument, uses do input loop which checks if each character of input is in the array. The array contains all the alphabetic characters capital case and lower case. If not it outputs a message saying the input is invalid. It uses the matches method which checks if the values are in the array.\n"
   ]
  },
  {
   "cell_type": "code",
   "execution_count": null,
   "metadata": {},
   "outputs": [],
   "source": [
    "// Input only alphabetic characters.\n",
    "  // This outputs a message then takes an input, if the input does not consist of alphabetic characters then the user is asked again to input only alphabetic characters\n",
    "  public static String get_string_input (String message){\n",
    "    Scanner input = new Scanner(System.in);\n",
    "    System.out.println(message);\n",
    "    String string_input = input.nextLine();\n",
    "\n",
    "    while (!string_input.matches(\"^[a-zA-Z]*$\")) { // Matches method which returns true if the each value matches with one of the value in the array of alpahbetic characters\n",
    "      System.out.println(message);\n",
    "    \n",
    "      // Check if the input consists of alphabetic characters\n",
    "      if (!string_input.matches(\"^[a-zA-Z]*$\")) {\n",
    "        System.out.println(\"Enter alphabetic characters only!\");\n",
    "      } \n",
    "\n",
    "      string_input = input.nextLine();\n",
    "    }\n",
    "    return string_input;\n",
    "  }\n"
   ]
  },
  {
   "cell_type": "markdown",
   "metadata": {},
   "source": [
    "#### Testing"
   ]
  },
  {
   "cell_type": "code",
   "execution_count": null,
   "metadata": {},
   "outputs": [],
   "source": [
    "String value = get_string_input(\"What is your name\");\n",
    "System.out.println(value);"
   ]
  },
  {
   "attachments": {},
   "cell_type": "markdown",
   "metadata": {},
   "source": [
    "## Method name\n",
    "get_positive_integer_input\n",
    "## What it does\n",
    "It outputs a message and takes an input, it must be a positive whole number.\n",
    "## Implementation (how it works)\n",
    "Takes message as the argument and it ouputs the message. It uses a while loop which is true until a positive whole number is entered. It uses a while loop which repeats itself until the input is an integer.\n"
   ]
  },
  {
   "cell_type": "code",
   "execution_count": null,
   "metadata": {},
   "outputs": [],
   "source": [
    " // Input only postive whole number\n",
    " public static int get_positive_integer_input(String message) {\n",
    "    Scanner input = new Scanner(System.in);\n",
    "    System.out.println(message);\n",
    "    String str_input = input.nextLine();\n",
    "\n",
    "    while(!str_input.matches(\"^-?\\\\d+$\")){ // if the input is not an integer\n",
    "      System.out.println(\"Invalid input. Please enter a whole number:\");\n",
    "      str_input = input.nextLine(); // Take input again\n",
    "    }\n",
    "\n",
    "    int integer_input = Integer.parseInt(str_input); \n",
    "\n",
    "    while (integer_input < 0) { // If the value is negative\n",
    "      System.out.println(\"Enter a non-negative whole number!\");\n",
    "      str_input = input.nextLine();\n",
    "      integer_input = Integer.parseInt(str_input);\n",
    "    } \n",
    "\n",
    "    return integer_input;\n",
    "  }\n"
   ]
  },
  {
   "attachments": {},
   "cell_type": "markdown",
   "metadata": {},
   "source": [
    "## Testing"
   ]
  },
  {
   "cell_type": "code",
   "execution_count": null,
   "metadata": {},
   "outputs": [],
   "source": [
    "int value = get_integer_input(\"What is your name\");\n",
    "System.out.println(value);"
   ]
  },
  {
   "attachments": {},
   "cell_type": "markdown",
   "metadata": {},
   "source": [
    "## Method name\n",
    "get_winner\n",
    "## What it does\n",
    "Finds the winner by comparing the votes.\n",
    "## Implementation (how it works)\n",
    "Passes the candidate records as the arguments. Uses if statement to compare the condidate votes and sets the won attribute to true accordingly."
   ]
  },
  {
   "cell_type": "code",
   "execution_count": null,
   "metadata": {},
   "outputs": [],
   "source": [
    "\n",
    "public static int get_winner (Candidate candidate1, Candidate candidate2){\n",
    "  int difference_votes = 0;\n",
    "  if (candidate1.votes>candidate2.votes){\n",
    "    candidate1.won= true; // Change the attribute won to true\n",
    "    System.out.println(\"The winner is \" + candidate1.name);\n",
    "    difference_votes=candidate1.votes-candidate2.votes;\n",
    "    \n",
    "  }\n",
    "  else if (candidate1.votes<candidate2.votes) { // Compare the votes of both candidate \n",
    "    candidate2.won=true;\n",
    "    System.out.println(\"The winner is \" + candidate2.name);\n",
    "    difference_votes=candidate2.votes-candidate1.votes;\n",
    "  }\n",
    "  else {\n",
    "    System.out.println(\"Draw\");\n",
    "  }\n",
    "  return difference_votes;\n",
    "}"
   ]
  },
  {
   "attachments": {},
   "cell_type": "markdown",
   "metadata": {},
   "source": [
    "## Testing"
   ]
  },
  {
   "cell_type": "code",
   "execution_count": null,
   "metadata": {},
   "outputs": [],
   "source": [
    "class Candidate{// class with no method but only defining the attributes\n",
    "  String name;\n",
    "  String party;\n",
    "  int votes;\n",
    "  boolean won;\n",
    "  public Candidate(String name, String party, int votes, boolean won) {\n",
    "    this.name = name;\n",
    "    this.party = party;\n",
    "    this.votes = votes;\n",
    "    this.won = won;\n",
    "  }   \n",
    "}\n",
    "Candidate candidate1 = new Candidate(\"Candidate 1\", \"Party A\", 5000, false);\n",
    "Candidate candidate2 = new Candidate(\"Candidate 2\", \"Party B\", 6000, false);\n",
    "int difference_votes = get_winner(candidate1, candidate2);\n",
    "System.out.println(difference_votes);"
   ]
  },
  {
   "attachments": {},
   "cell_type": "markdown",
   "metadata": {},
   "source": [
    "## Method name\n",
    "print_candidate_info\n",
    "## What it does\n",
    "Outputs the winner's information, name, party and number of votes\n",
    "## Implementation (how it works)\n",
    "Takes the candidate that won as the argument and the difference in votes. It outputs the winner's information using the println function and it outputs the difference in votes."
   ]
  },
  {
   "cell_type": "code",
   "execution_count": null,
   "metadata": {},
   "outputs": [],
   "source": [
    "public static void print_candidate_info (Candidate candidate, int difference_votes){\n",
    "  System.out.println (candidate.name + \" of the \" + candidate.party + \" is declared the winner with \" + candidate.votes + \" votes.\");\n",
    "  System.out.println (\"They have a majority of \" + difference_votes);\n",
    "}\n"
   ]
  },
  {
   "attachments": {},
   "cell_type": "markdown",
   "metadata": {},
   "source": [
    "## Testing"
   ]
  },
  {
   "cell_type": "code",
   "execution_count": null,
   "metadata": {},
   "outputs": [],
   "source": [
    "class Candidate{// class with no method but only defining the attributes\n",
    "  String name;\n",
    "  String party;\n",
    "  int votes;\n",
    "  boolean won;\n",
    "  public Candidate(String name, String party, int votes, boolean won) {\n",
    "    this.name = name;\n",
    "    this.party = party;\n",
    "    this.votes = votes;\n",
    "    this.won = won;\n",
    "  }   \n",
    "}\n",
    "int difference_votes =1000;\n",
    "Candidate candidate1 = new Candidate(\"Candidate 1\", \"Party A\", 5000, false);\n",
    "print_candidate_info(candidate1, difference_votes);"
   ]
  },
  {
   "attachments": {},
   "cell_type": "markdown",
   "metadata": {},
   "source": [
    "## Method name\n",
    "main\n",
    "## What it does\n",
    "\n",
    "## Implementation (how it works)\n"
   ]
  },
  {
   "cell_type": "code",
   "execution_count": null,
   "metadata": {},
   "outputs": [],
   "source": [
    "class Candidate{// class with no method but only defining the attributes\n",
    "  String name;\n",
    "  String party;\n",
    "  int votes;\n",
    "  boolean won; \n",
    "}\n",
    "public static void main (String[] args){\n",
    "  String name1 = get_string_input(\"What is the name of the first candidate?\");\n",
    "  String party1 = get_string_input(\"What party did they stand for?\");\n",
    "  int votes1 = get_integer_input(\"How many votes did they gain?\");\n",
    "  Candidate candidate1 = create_candidate_record (name1, party1, votes1);\n",
    "  String name2 = get_string_input(\"What is the name of the second candidate?\");\n",
    "  String party2 = get_string_input(\"What party did they stand for?\");\n",
    "  int votes2 = get_integer_input(\"How many votes did they gain?\");\n",
    "  Candidate candidate2 = create_candidate_record (name2, party2, votes2);\n",
    "  int difference_votes = get_winner (candidate1, candidate2);\n",
    "  if (candidate1.won){\n",
    "    print_candidate_info(candidate1, difference_votes);\n",
    "  }\n",
    "  else if (candidate2.won){\n",
    "    print_candidate_info(candidate2, difference_votes);\n",
    "  }\n",
    "  else {\n",
    "    System.out.println(\"Draw\");\n",
    "  }  \n",
    "  return;\n",
    "}"
   ]
  },
  {
   "attachments": {},
   "cell_type": "markdown",
   "metadata": {},
   "source": [
    "## Testing"
   ]
  },
  {
   "cell_type": "code",
   "execution_count": null,
   "metadata": {},
   "outputs": [],
   "source": [
    "main(null);"
   ]
  },
  {
   "cell_type": "markdown",
   "metadata": {},
   "source": [
    "### Running the program\n",
    "Run the following call to simulate running the complete program."
   ]
  },
  {
   "cell_type": "code",
   "execution_count": null,
   "metadata": {},
   "outputs": [],
   "source": [
    "main(null);"
   ]
  },
  {
   "cell_type": "markdown",
   "metadata": {},
   "source": [
    "## The complete program\n",
    "This version will only compile here. To run it copy it into a file called initials.java on your local computer and compile and run it there."
   ]
  },
  {
   "cell_type": "code",
   "execution_count": null,
   "metadata": {},
   "outputs": [],
   "source": [
    "/* ***************************************\n",
    "  @author    TAHER AHMED\n",
    "  @SID       230288917\n",
    "  @date      26 September 2020\n",
    "  @version   1\n",
    "  @desciption\n",
    "****************************************/\n",
    "public class ElectionResultsInformation {\n",
    "  static class Candidate{// class with no method but only defining the attributes\n",
    "    String name;\n",
    "    String party;\n",
    "    int votes;\n",
    "    boolean won;\n",
    "  }\n",
    "  // Input only alphabetic characters.\n",
    "  // This outputs a message then takes an input, if the input does not consist of alphabetic characters then the user is asked again to input only alphabetic characters\n",
    "  public static String get_string_input (String message){\n",
    "    Scanner input = new Scanner(System.in);\n",
    "    System.out.println(message);\n",
    "    String string_input = input.nextLine();\n",
    "\n",
    "    while (!string_input.matches(\"^[a-zA-Z]*$\")) { // Matches method which returns true if the each value matches with one of the value in the array of alpahbetic characters\n",
    "      System.out.println(message);\n",
    "    \n",
    "      // Check if the input consists of alphabetic characters\n",
    "      if (!string_input.matches(\"^[a-zA-Z]*$\")) {\n",
    "        System.out.println(\"Enter alphabetic characters only!\");\n",
    "      } \n",
    "\n",
    "      string_input = input.nextLine();\n",
    "    }\n",
    "    return string_input;\n",
    "  }\n",
    "\n",
    "   // Input only postive whole number\n",
    " public static int get_integer_input(String message) {\n",
    "  Scanner input = new Scanner(System.in);\n",
    "  System.out.println(message);\n",
    "  String str_input = input.nextLine();\n",
    "\n",
    "  while(!str_input.matches(\"^-?\\\\d+$\")){ // if the input is not an integer\n",
    "    System.out.println(\"Invalid input. Please enter a whole number:\");\n",
    "    str_input = input.nextLine(); // Take input again\n",
    "  }\n",
    "\n",
    "  int integer_input = Integer.parseInt(str_input); \n",
    "\n",
    "  while (integer_input < 0) { // If the value is negative\n",
    "    System.out.println(\"Enter a non-negative whole number!\");\n",
    "    str_input = input.nextLine();\n",
    "    integer_input = Integer.parseInt(str_input);\n",
    "  } \n",
    "\n",
    "  return integer_input;\n",
    "}\n",
    "  public static Candidate create_candidate_record(String name, String party, int votes){\n",
    "    Candidate candidate = new Candidate(); // creates an object using the \"Candidate\" class.\n",
    "    candidate.name = name;\n",
    "    candidate.party = party;\n",
    "    candidate.votes = votes;\n",
    "    candidate.won = false; // Won is set to false by default.\n",
    "    return candidate;\n",
    "  }\n",
    "  public static int get_winner (Candidate candidate1, Candidate candidate2){\n",
    "    int difference_votes = 0;\n",
    "    if (candidate1.votes>candidate2.votes){\n",
    "      candidate1.won= true; // Change the attribute won to true\n",
    "      System.out.println(\"The winner is \" + candidate1.name);\n",
    "      difference_votes=candidate1.votes-candidate2.votes;\n",
    "      \n",
    "    }\n",
    "    else if (candidate1.votes<candidate2.votes) { // Compare the votes of both candidate \n",
    "      candidate2.won=true;\n",
    "      System.out.println(\"The winner is \" + candidate2.name);\n",
    "      difference_votes=candidate2.votes-candidate1.votes;\n",
    "    }\n",
    "    else {\n",
    "      System.out.println(\"Draw\");\n",
    "    }\n",
    "    return difference_votes;\n",
    "  }\n",
    "  public static void print_candidate_info (Candidate candidate, int difference_votes){\n",
    "    System.out.println (candidate.name + \" of the \" + candidate.party + \" is declared the winner with \" + candidate.votes + \" votes.\");\n",
    "    System.out.println (\"They have a majority of \" + difference_votes);\n",
    "  }\n",
    "  public static void main (String[] args){\n",
    "    String name1 = get_string_input(\"What is the name of the first candidate?\");\n",
    "    String party1 = get_string_input(\"What party did they stand for?\");\n",
    "    int votes1 = get_integer_input(\"How many votes did they gain?\");\n",
    "    Candidate candidate1 = create_candidate_record (name1, party1, votes1);\n",
    "    String name2 = get_string_input(\"What is the name of the second candidate?\");\n",
    "    String party2 = get_string_input(\"What party did they stand for?\");\n",
    "    int votes2 = get_integer_input(\"How many votes did they gain?\");\n",
    "    Candidate candidate2 = create_candidate_record (name2, party2, votes2);\n",
    "    int difference_votes = get_winner (candidate1, candidate2);\n",
    "    if (candidate1.won){\n",
    "      print_candidate_info(candidate1, difference_votes);\n",
    "    }\n",
    "    else if (candidate2.won){\n",
    "      print_candidate_info(candidate2, difference_votes);\n",
    "    }\n",
    "    else {\n",
    "      System.out.println(\"Draw\");\n",
    "    }  \n",
    "    return;\n",
    "  }\n",
    "}\n"
   ]
  },
  {
   "cell_type": "code",
   "execution_count": 3,
   "metadata": {},
   "outputs": [
    {
     "name": "stdout",
     "output_type": "stream",
     "text": [
      "What is the name of the first candidate?\n",
      "What party did they stand for?\n",
      "How many votes did they gain?\n",
      "What is the name of the second candidate?\n",
      "What party did they stand for?\n",
      "How many votes did they gain?\n",
      "The winner is Smith\n",
      "Smith of the The Equality Party is declared the winner with 16457 votes.\n",
      "They have a majority of 11236\n"
     ]
    }
   ],
   "source": [
    "ElectionResultsInformation.main(null);"
   ]
  },
  {
   "cell_type": "markdown",
   "metadata": {},
   "source": [
    "**END OF LITERATE DOCUMENT**"
   ]
  }
 ],
 "metadata": {
  "kernelspec": {
   "display_name": "Java",
   "language": "java",
   "name": "java"
  },
  "language_info": {
   "codemirror_mode": "java",
   "file_extension": ".jshell",
   "mimetype": "text/x-java-source",
   "name": "java",
   "pygments_lexer": "java",
   "version": "17.0.8.1+1"
  }
 },
 "nbformat": 4,
 "nbformat_minor": 4
}
