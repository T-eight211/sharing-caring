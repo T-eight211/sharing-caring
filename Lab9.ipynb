{
 "cells": [
  {
   "cell_type": "markdown",
   "id": "d38cef6e-ba9b-4e56-a69f-eb5e754433c7",
   "metadata": {},
   "source": [
    "# Lab 9\n",
    "\n",
    "Deadline: **Week 11** in your respective lab session"
   ]
  },
  {
   "cell_type": "markdown",
   "id": "3fd8d6f9-4682-450d-8faf-a4faf17daf50",
   "metadata": {},
   "source": [
    "### Name:\n",
    "### Student ID:"
   ]
  },
  {
   "cell_type": "markdown",
   "id": "687e1154-c295-42ae-aeb0-2f0446001106",
   "metadata": {},
   "source": [
    "***\n",
    "<span style=\"color: red;\">Note that this lab contains only 3 questions, but the total number of marks is still 5. The amount of marks does not correspond to the difficulty of the question but rather its importance. The higher the mark, the higher the importance.</span>"
   ]
  },
  {
   "cell_type": "markdown",
   "id": "e59f7f40-2982-4996-b01e-63212844413b",
   "metadata": {},
   "source": [
    "***\n",
    "\n",
    "## Question 1 [2 mark]"
   ]
  },
  {
   "cell_type": "markdown",
   "id": "9a329058-b307-477a-89aa-bed21e076027",
   "metadata": {},
   "source": [
    "You are given a partially implemented class `Level`. Implement the class method `loadLevel` and instance method `saveLevel`.\n",
    "\n",
    "`loadLevel` should attempt to read from `levelSave.txt` and create an instance of `Level` with the value read from the file. If an exception occurs during the reading process, `loadLevel` should create an instance of `Level` with a default value `0`.\n",
    "\n",
    "`saveLevel` should write the value stored inside the `level` attribute into `levelSave.txt`.\n",
    "\n",
    "Note that class `Level` has two constructors; you are expected to use them as appropriate.\n",
    "\n",
    "You are expected to understand how the `Level` class fits into the overall program and its expected behaviour.\n",
    "\n"
   ]
  },
  {
   "cell_type": "markdown",
   "id": "eb316635-97f3-4c19-bccf-4c6f69b18318",
   "metadata": {},
   "source": [
    "**Write your answer below:**\n"
   ]
  },
  {
   "cell_type": "code",
   "execution_count": null,
   "id": "c9653abd-09c0-423d-b5ad-f3a50cea0361",
   "metadata": {
    "vscode": {
     "languageId": "java"
    }
   },
   "outputs": [],
   "source": [
    "import java.io.*;\n",
    "\n",
    "class Level {\n",
    "    private int level; \n",
    "    \n",
    "    private Level(int level) {\n",
    "        this.level = level;\n",
    "    }\n",
    "\n",
    "    public Level() {\n",
    "        this.level = 0;\n",
    "    }\n",
    "\n",
    "    public void nextLevel() {\n",
    "        this.level++;\n",
    "    }\n",
    "\n",
    "    public int getLevel() {\n",
    "        return this.level;\n",
    "    }\n",
    "\n",
    "    public static Level loadLevel() {\n",
    "\n",
    "    }\n",
    "\n",
    "    public void saveLevel() {\n",
    "\n",
    "    }\n",
    "    \n",
    "}\n"
   ]
  },
  {
   "cell_type": "markdown",
   "id": "6fabf667-97b1-4343-96e3-86b4dd65765d",
   "metadata": {},
   "source": [
    "**Run your program:**\n"
   ]
  },
  {
   "cell_type": "code",
   "execution_count": null,
   "id": "8aa692bb-3548-42a1-9306-11a72fcfbacd",
   "metadata": {
    "vscode": {
     "languageId": "java"
    }
   },
   "outputs": [],
   "source": [
    "public class Main1 {\n",
    "    public static void main(String[] args) {\n",
    "        String option = inputString(\"1) New Game\\n2) Load Game\");\n",
    "\n",
    "        Level level = option.equals(\"1\") ? new Level() : loadGame();\n",
    "\n",
    "        String answer;\n",
    "        do {\n",
    "            answer = inputString(\"Do you want to progress to the next level? y/n?\");\n",
    "\n",
    "            if (answer.equals(\"y\")) {\n",
    "                level.nextLevel();\n",
    "                System.out.println(\"You are on level \" + level.getLevel());\n",
    "            }\n",
    "            else {\n",
    "                level.saveLevel();\n",
    "            }\n",
    "        } while (answer.equals(\"y\")); \n",
    "    }\n",
    "\n",
    "    public static Level loadGame() {\n",
    "        return Level.loadLevel();\n",
    "    }\n",
    "\n",
    "    public static String inputString(String message) {\n",
    "        System.out.println(message);\n",
    "        return new Scanner(System.in).nextLine();\n",
    "    }\n",
    "}\n"
   ]
  },
  {
   "cell_type": "markdown",
   "id": "4a31bb78-6117-412b-92d9-f150ba2ee053",
   "metadata": {},
   "source": [
    "***\n",
    "\n",
    "## Question 2 [2 mark]"
   ]
  },
  {
   "cell_type": "markdown",
   "id": "69e5f1d4-400d-4c56-b3e7-2cfacd1e88fb",
   "metadata": {},
   "source": [
    "Write a program that recursively parses expressions, input as strings, from the following recursively defined language and calculates and prints out the answer to the calculations.\n",
    "```\n",
    "<EXP> = + <DIGIT> <EXP> | - <DIGIT> <EXP> | * <DIGIT> <EXP> | / <DIGIT> <EXP> | ^ <DIGIT> <EXP> | % <DIGIT> <EXP> | & <EXP> | <DIGIT>  \n",
    "<DIGIT> = 0 | 1 | 2 | 3 | 4 | 5 | 6 | 7 | 8 | 9 | A | B | C | D | E | F\n",
    "\n",
    "```\n",
    "Here EXP represents expressions, where:\n",
    "- `+` represents addition.\n",
    "- `-` represents subtraction.\n",
    "- `&` represents sum up to the given number (inclusive).\n",
    "- `*` represents multiplication.\n",
    "- `/` represents division.\n",
    "- `^` represents exponentiation.\n",
    "- `%` represents modulus (remainder after division).\n",
    "\n",
    "DIGIT represents a number from 0 to 15.\n",
    "\n",
    "Legal expressions in this language involve putting the operator before its arguments (this is called Polish notation). Instead of writing 1+2, in this language you write +12. Notice only single digits are allowed, and spaces are not allowed.\n",
    "\n",
    "\n",
    "An example run of the program (characters in bold are typed in by the user):  \n",
    "`Please input the expression` **`3`**   \n",
    "`The answer is 3`\n",
    "\n",
    "\n",
    "Another example run:  \n",
    "`Please input the expression` **`B`**   \n",
    "`The answer is 11` \n",
    "\n",
    "\n",
    "Another example run:  \n",
    "`Please input the expression` **`&3`**   \n",
    "`The answer is 6`  \n",
    "\n",
    "Explanation: The & operator calculates the sum up to the given number (inclusive), so &3 sums up 1 + 2 + 3 = 6.\n",
    "\n",
    "\n",
    "Another example run:  \n",
    "`Please input the expression` **`&+23`**   \n",
    "`The answer is 15`  \n",
    "\n",
    "Explanation: Here, +23 represents addition (+) of 2 and 3, resulting in 5. Then, &5 sums up 1 + 2 + 3 + 4 + 5 = 15.\n",
    "\n",
    "\n",
    "Another example run:  \n",
    "`Please input the expression` **`^2+D9`**   \n",
    "`The answer is 4194304`  \n",
    "\n",
    "Explanation: Here, ^2+D9 calculates 2 raised to the power of the result of +D9. +D9 represents the addition of 13 (D in hexadecimal) and 9, resulting in 22. So, the expression calculates 2^22 = 4194304.\n",
    "\n",
    "\n",
    "Another example run:  \n",
    "`Please input the expression` **`&+1-82`**   \n",
    "`The answer is 28` \n",
    "\n",
    "Explanation: The expression &+1-82 is parsed as (& (+ 1 (- 8 2))). First, the expression inside the innermost parentheses is evaluated: (- 8 2) calculates the subtraction of 8 - 2, resulting in 6. Next, the expression inside the next parentheses is evaluated: (+ 1 6) calculates the addition of 1 + 6, resulting in 7.\n",
    "Then, the expression inside the outermost parentheses is evaluated: &7 calculates the sum up to the given number (inclusive), so &7 sums up 1 + 2 + 3 + 4 + 5 + 6 + 7 = 28.\n",
    "\n",
    "\n",
    "Another example run:  \n",
    "`Please input the expression` **`*2&%85`**   \n",
    "`The answer is 12` \n",
    "\n",
    "Explanation: Here, *2&%85 first calculates the result of %85, which represents the modulus of 8 by 5, resulting in 3. Then, &3 calculates the sum up to 3, which is 1 + 2 + 3 = 6. Finally, *26 calculates the multiplication of 2 and 6, resulting in 12.\n",
    "\n",
    "\n",
    "Another example run:  \n",
    "`Please input the expression` **`+C*7/A%92`**   \n",
    "`The answer is 82` \n",
    "\n",
    "Explanation: This expression involves addition, multiplication, division, and modulus. The program evaluates each operation step by step and outputs the final result as 82.\n",
    "\n",
    "\n",
    "\n",
    "Use a regular expression to check if the inputted string contains only valid characters. Additionally, if all characters are valid but the expression is illegal, throw a custom exception (you need to define it); you should not catch it.\n",
    "\n",
    "You must not use an explicit loop at all in your program.\n",
    "\n",
    "**Hint:** What base do all the digits belong to? How can you easily parse the string without writing much code?\n",
    "\n"
   ]
  },
  {
   "cell_type": "markdown",
   "id": "661ca302-591d-4686-ba0c-09b186a7b981",
   "metadata": {},
   "source": [
    "**Write your answer below:**"
   ]
  },
  {
   "cell_type": "code",
   "execution_count": 30,
   "id": "3f877e95-4541-4bb8-916b-091445080619",
   "metadata": {
    "vscode": {
     "languageId": "java"
    }
   },
   "outputs": [],
   "source": [
    "public static int parseExpression(String expression) {\n",
    "  // parse the expression\n",
    "  if (expression.length() == 0 || expression.length() ==  1) {\n",
    "      return Integer.parseInt(expression, 16);\n",
    "  } else {\n",
    "      int total = 0;\n",
    "      int expression_length = expression.length() - 1;\n",
    "      total = total +  Integer.parseInt( \"\" + expression.substring(expression_length), 16);\n",
    "\n",
    "\n",
    "      while (expression_length > 0) {\n",
    "\n",
    "          if (expression.charAt(expression_length - 1) == '&') {\n",
    "              total = factorialRecursive(total);\n",
    "              expression_length = expression_length - 1;\n",
    "\n",
    "          } \n",
    "\n",
    "          else if (expression.charAt(expression_length - 1) == '+') {\n",
    "              total = total + Integer.parseInt( \"\" + expression.charAt(expression_length), 16);\n",
    "              expression_length = expression_length - 1;\n",
    "        \n",
    "          } \n",
    "          \n",
    "          else if (expression.charAt(expression_length - 1) == '-') {\n",
    "              total = Integer.parseInt( \"\" +expression.charAt(expression_length), 16) - total;\n",
    "              expression_length = expression_length - 1;\n",
    "            \n",
    "          } \n",
    "          \n",
    "          else if (expression.charAt(expression_length - 1) == '*') {\n",
    "              total = total * Integer.parseInt( \"\" + expression.charAt(expression_length), 16);\n",
    "              expression_length = expression_length - 1;\n",
    "             \n",
    "          }\n",
    "          \n",
    "          else if (expression.charAt(expression_length - 1) == '/') {\n",
    "              total =  Integer.parseInt( \"\" + expression.charAt(expression_length), 16)/ total;\n",
    "              expression_length = expression_length - 1;\n",
    "              \n",
    "          } \n",
    "          \n",
    "          else if (expression.charAt(expression_length - 1) == '%') {\n",
    "              total = Integer.parseInt( \"\" +expression.charAt(expression_length), 16) % total  ;\n",
    "              expression_length = expression_length - 1;\n",
    "  \n",
    "          } \n",
    "          \n",
    "          else if (expression.charAt(expression_length - 1) == '^') {\n",
    "              total = (int) Math.pow(Integer.parseInt( \"\" + expression.charAt(expression_length), 16),total);\n",
    "              expression_length = expression_length - 1;\n",
    "        \n",
    "          } \n",
    "          \n",
    "          else {\n",
    "              expression_length = expression_length - 1;\n",
    "          }\n",
    "      }\n",
    "      return total;\n",
    "  }\n",
    "}\n",
    "\n",
    "public static int factorialRecursive(int n) {\n",
    "  if (n == 0 || n == 1) {\n",
    "      return 1;\n",
    "  } else {\n",
    "      return n + factorialRecursive(n - 1);\n",
    "  }\n",
    "}\n"
   ]
  },
  {
   "cell_type": "markdown",
   "id": "86678292-eaf1-4144-8540-af5a2897235f",
   "metadata": {},
   "source": [
    "**Run your program:**\n"
   ]
  },
  {
   "cell_type": "code",
   "execution_count": 31,
   "id": "0ad396b2-a91f-474c-bfc3-8c395500544a",
   "metadata": {
    "vscode": {
     "languageId": "java"
    }
   },
   "outputs": [
    {
     "name": "stdout",
     "output_type": "stream",
     "text": [
      "3\n",
      "11\n",
      "6\n",
      "15\n",
      "4194304\n",
      "28\n",
      "12\n",
      "82\n"
     ]
    }
   ],
   "source": [
    "System.out.println(parseExpression (\"3\")); // 3\n",
    "System.out.println(parseExpression (\"B\")); // 11\n",
    "System.out.println(parseExpression (\"&3\")); // 6\n",
    "System.out.println(parseExpression (\"&+23\")); // 15 \n",
    "System.out.println(parseExpression (\"^2+D9\")); // 4194304\n",
    "System.out.println(parseExpression (\"&+1-82\")); // 28\n",
    "System.out.println(parseExpression (\"*2&%85\")); // 12 \n",
    "System.out.println(parseExpression (\"+C*7/A%92\")); // 82\n",
    " "
   ]
  },
  {
   "cell_type": "markdown",
   "id": "f7d78bc4-91d6-4599-9b1b-92f54ad04024",
   "metadata": {},
   "source": [
    "***\n",
    "## Question 3 [1 mark]"
   ]
  },
  {
   "cell_type": "markdown",
   "id": "3c8c2842-016a-4fc3-a860-08725ed30efd",
   "metadata": {},
   "source": [
    "Consider the triangle below, where the maximum total from top to bottom is demonstrated:\n",
    "<p style=\"font-family: monospace; text-align: center;\">\n",
    "  <b><span style=\"color: red;\">3</span></b><br>\n",
    "  <b><span style=\"color: red;\">7</span></b> 4<br>\n",
    "  2 <b><span style=\"color: red;\">4</span></b> 6<br>\n",
    "  8 5 <b><span style=\"color: red;\">9</span></b> 3\n",
    "</p>\n",
    "\n",
    "The maximum total, obtained by summing the highlighted numbers ($3 + 7 + 4 + 9 = 23$), is $23$.\n",
    "\n",
    "Now, your task is to find the maximum total from top to bottom of a larger triangle, represented below:\n",
    "\n",
    "<p style=\"font-family: monospace; text-align: center;\">\n",
    "  75<br>\n",
    "  95 64<br>\n",
    "  17 47 82<br>\n",
    "  18 35 87 10<br>\n",
    "  20 04 82 47 65<br>\n",
    "  19 01 23 75 03 34<br>\n",
    "  88 02 77 73 07 63 67<br>\n",
    "  99 65 04 28 06 16 70 92<br>\n",
    "  41 41 26 56 83 40 80 70 33<br>\n",
    "  41 48 72 33 47 32 37 16 94 29<br>\n",
    "  53 71 44 65 25 43 91 52 97 51 14<br>\n",
    "  70 11 33 28 77 73 17 78 39 68 17 57<br>\n",
    "  91 71 52 38 17 14 91 43 58 50 27 29 48<br>\n",
    "  63 66 04 68 89 53 67 30 73 16 69 87 40 31<br>\n",
    "  04 62 98 27 23 09 70 98 73 93 38 53 60 04 23\n",
    "</p>\n",
    "\n",
    "Start by running the `save` method below, which will save the above triangle into a text file called `triangle.txt`. Allow it a few seconds to appear in your current directory.\n",
    "\n",
    "Then, your objective is to implement the `load` method, which should load the data from the `\"triangle.txt\"` file and return a 2D integer array representing the triangle above.\n",
    "\n",
    "Using the 2D array, solve the problem stated above (the maximum total from top to bottom of the triangle).\n",
    "\n",
    "**Hint:** Start from the bottom of the triangle.\n"
   ]
  },
  {
   "cell_type": "markdown",
   "id": "c5fe0fd0-036e-485c-911a-437f103e1e2f",
   "metadata": {},
   "source": [
    "**Write your answer below:**"
   ]
  },
  {
   "cell_type": "code",
   "execution_count": null,
   "id": "33bb4a83-7ba7-49ae-9587-ddf0009ffdd3",
   "metadata": {
    "vscode": {
     "languageId": "java"
    }
   },
   "outputs": [],
   "source": [
    "import java.io.FileWriter;\n",
    "import java.io.IOException;\n",
    "\n",
    "public static void save() {\n",
    "        String data = \"75\\n\" +\n",
    "                      \"95 64\\n\" +\n",
    "                      \"17 47 82\\n\" +\n",
    "                      \"18 35 87 10\\n\" +\n",
    "                      \"20 04 82 47 65\\n\" +\n",
    "                      \"19 01 23 75 03 34\\n\" +\n",
    "                      \"88 02 77 73 07 63 67\\n\" +\n",
    "                      \"99 65 04 28 06 16 70 92\\n\" +\n",
    "                      \"41 41 26 56 83 40 80 70 33\\n\" +\n",
    "                      \"41 48 72 33 47 32 37 16 94 29\\n\" +\n",
    "                      \"53 71 44 65 25 43 91 52 97 51 14\\n\" +\n",
    "                      \"70 11 33 28 77 73 17 78 39 68 17 57\\n\" +\n",
    "                      \"91 71 52 38 17 14 91 43 58 50 27 29 48\\n\" +\n",
    "                      \"63 66 04 68 89 53 67 30 73 16 69 87 40 31\\n\" +\n",
    "                      \"04 62 98 27 23 09 70 98 73 93 38 53 60 04 23\";\n",
    "    try {\n",
    "        FileWriter writer = new FileWriter(\"triangle.txt\");\n",
    "        writer.write(data);\n",
    "        writer.close();\n",
    "    } catch (IOException e) {}\n",
    "}\n",
    "\n",
    "save();"
   ]
  },
  {
   "cell_type": "code",
   "execution_count": null,
   "id": "0a7ae164-6b99-4173-a65a-219cc1a1d2ff",
   "metadata": {
    "vscode": {
     "languageId": "java"
    }
   },
   "outputs": [],
   "source": [
    "public static int[][] load() {\n",
    "\n",
    "}"
   ]
  },
  {
   "cell_type": "code",
   "execution_count": null,
   "id": "f765cc02-b3ea-49c6-b3d3-f73526086582",
   "metadata": {
    "vscode": {
     "languageId": "java"
    }
   },
   "outputs": [],
   "source": [
    "public static void solvePuzzle(int[][] triangleArray) {\n",
    "\n",
    "}"
   ]
  },
  {
   "cell_type": "markdown",
   "id": "cbf3c460-6088-4e9f-aced-e51555d57b4e",
   "metadata": {},
   "source": [
    "**Run your program:**\n"
   ]
  },
  {
   "cell_type": "code",
   "execution_count": null,
   "id": "ac33953a-bc70-4107-924e-511d71686f12",
   "metadata": {
    "vscode": {
     "languageId": "java"
    }
   },
   "outputs": [],
   "source": [
    "solvePuzzle(load());\n"
   ]
  },
  {
   "cell_type": "code",
   "execution_count": null,
   "id": "e1bc39f5-82e3-4a8f-bc5b-f83058334517",
   "metadata": {
    "vscode": {
     "languageId": "java"
    }
   },
   "outputs": [],
   "source": []
  }
 ],
 "metadata": {
  "kernelspec": {
   "display_name": "Java",
   "language": "java",
   "name": "java"
  },
  "language_info": {
   "codemirror_mode": "java",
   "file_extension": ".jshell",
   "mimetype": "text/x-java-source",
   "name": "Java",
   "pygments_lexer": "java",
   "version": "21.0.1+12-LTS-29"
  }
 },
 "nbformat": 4,
 "nbformat_minor": 5
}
